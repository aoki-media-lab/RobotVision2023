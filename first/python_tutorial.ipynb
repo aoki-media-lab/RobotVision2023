{
 "cells": [
  {
   "cell_type": "markdown",
   "metadata": {
    "code_folding": []
   },
   "source": [
    "## Jupyter Notebook とは\n",
    "\n",
    "webブラウザから使用できるインタラクティブなプログラムの実行環境\n",
    "1. セル単位でプログラムを実行できる\n",
    "2. インタラクティブに結果の可視化が行える\n",
    "3. markdown記法にも対応していて，文書からコード，その実行結果まで一つのファイルで管理できる"
   ]
  },
  {
   "cell_type": "code",
   "execution_count": 1,
   "metadata": {},
   "outputs": [
    {
     "name": "stdout",
     "output_type": "stream",
     "text": [
      "Hello, world!\n"
     ]
    }
   ],
   "source": [
    "print(\"Hello, world!\")"
   ]
  },
  {
   "cell_type": "markdown",
   "metadata": {},
   "source": [
    "## Python の文法について"
   ]
  },
  {
   "cell_type": "markdown",
   "metadata": {},
   "source": [
    "### 変数\n",
    "\n",
    "- C言語では宣言文によって，変数のデータ型と名前を定義する必要がある. 例) `int x = 3;`\n",
    "- pythonでは，変数に値を代入したタイミングで変数が定義される (型宣言をする必要がない)"
   ]
  },
  {
   "cell_type": "code",
   "execution_count": 2,
   "metadata": {},
   "outputs": [
    {
     "name": "stdout",
     "output_type": "stream",
     "text": [
      "3\n"
     ]
    }
   ],
   "source": [
    "x = 3\n",
    "print(x)"
   ]
  },
  {
   "cell_type": "code",
   "execution_count": 3,
   "metadata": {},
   "outputs": [
    {
     "data": {
      "text/plain": [
       "6"
      ]
     },
     "execution_count": 3,
     "metadata": {},
     "output_type": "execute_result"
    }
   ],
   "source": [
    "# #でコメントアウトできる\n",
    "# print文を書かなくても， セルの最後の行の変数や計算結果の値を確認できる\n",
    "x + 3"
   ]
  },
  {
   "cell_type": "markdown",
   "metadata": {},
   "source": [
    "### 変数の型\n",
    "- int型 (整数)\n",
    "- float型 (浮動小数点型)\n",
    "- str型 (文字列型)\n",
    "- bool型 (真偽値)"
   ]
  },
  {
   "cell_type": "code",
   "execution_count": 4,
   "metadata": {},
   "outputs": [
    {
     "name": "stdout",
     "output_type": "stream",
     "text": [
      "<class 'int'>\n"
     ]
    }
   ],
   "source": [
    "i = 4\n",
    "print(type(i))"
   ]
  },
  {
   "cell_type": "code",
   "execution_count": 5,
   "metadata": {},
   "outputs": [
    {
     "name": "stdout",
     "output_type": "stream",
     "text": [
      "<class 'float'>\n"
     ]
    }
   ],
   "source": [
    "f = 2.1\n",
    "print(type(f))"
   ]
  },
  {
   "cell_type": "code",
   "execution_count": 6,
   "metadata": {},
   "outputs": [
    {
     "name": "stdout",
     "output_type": "stream",
     "text": [
      "<class 'str'>\n"
     ]
    }
   ],
   "source": [
    "s = \"Hello, world!\"  # クオーテーションで囲う\n",
    "print(type(s))"
   ]
  },
  {
   "cell_type": "code",
   "execution_count": 7,
   "metadata": {},
   "outputs": [
    {
     "name": "stdout",
     "output_type": "stream",
     "text": [
      "<class 'bool'>\n"
     ]
    }
   ],
   "source": [
    "b = True\n",
    "print(type(b))"
   ]
  },
  {
   "cell_type": "markdown",
   "metadata": {},
   "source": [
    "### 演算子\n",
    "#### 代数演算子\n",
    "\n",
    "- `+` 加算\n",
    "- `-` 減算\n",
    "- `*` 乗算\n",
    "- `/` 除算\n",
    "- `**` 冪乗\n",
    "- `%` 余りを計算\n",
    "- `//` 切り捨て"
   ]
  },
  {
   "cell_type": "code",
   "execution_count": 8,
   "metadata": {},
   "outputs": [
    {
     "data": {
      "text/plain": [
       "5"
      ]
     },
     "execution_count": 8,
     "metadata": {},
     "output_type": "execute_result"
    }
   ],
   "source": [
    "# 加算\n",
    "2 + 3"
   ]
  },
  {
   "cell_type": "code",
   "execution_count": 9,
   "metadata": {},
   "outputs": [
    {
     "data": {
      "text/plain": [
       "-1"
      ]
     },
     "execution_count": 9,
     "metadata": {},
     "output_type": "execute_result"
    }
   ],
   "source": [
    "# 減算\n",
    "2 - 3"
   ]
  },
  {
   "cell_type": "code",
   "execution_count": 10,
   "metadata": {},
   "outputs": [
    {
     "data": {
      "text/plain": [
       "6"
      ]
     },
     "execution_count": 10,
     "metadata": {},
     "output_type": "execute_result"
    }
   ],
   "source": [
    "# 乗算\n",
    "2 * 3"
   ]
  },
  {
   "cell_type": "code",
   "execution_count": 11,
   "metadata": {},
   "outputs": [
    {
     "data": {
      "text/plain": [
       "0.6666666666666666"
      ]
     },
     "execution_count": 11,
     "metadata": {},
     "output_type": "execute_result"
    }
   ],
   "source": [
    "# 除算\n",
    "2 / 3"
   ]
  },
  {
   "cell_type": "code",
   "execution_count": 12,
   "metadata": {},
   "outputs": [
    {
     "data": {
      "text/plain": [
       "8"
      ]
     },
     "execution_count": 12,
     "metadata": {},
     "output_type": "execute_result"
    }
   ],
   "source": [
    "# 冪乗\n",
    "2 ** 3"
   ]
  },
  {
   "cell_type": "code",
   "execution_count": 13,
   "metadata": {},
   "outputs": [
    {
     "data": {
      "text/plain": [
       "2"
      ]
     },
     "execution_count": 13,
     "metadata": {},
     "output_type": "execute_result"
    }
   ],
   "source": [
    "# 余り\n",
    "2 % 3"
   ]
  },
  {
   "cell_type": "code",
   "execution_count": 14,
   "metadata": {},
   "outputs": [
    {
     "data": {
      "text/plain": [
       "0"
      ]
     },
     "execution_count": 14,
     "metadata": {},
     "output_type": "execute_result"
    }
   ],
   "source": [
    "# 切り捨て\n",
    "2 // 3"
   ]
  },
  {
   "cell_type": "markdown",
   "metadata": {},
   "source": [
    "#### 代入演算子\n",
    "- `a = b`\n",
    "  aをbに代入\n",
    "- `a += b`\n",
    "  `a = a + b` と同じ\n",
    "- `a -= b`\n",
    "  `a = a - b` と同じ\n",
    "- `a *= b`\n",
    "  `a = a * b` と同じ\n",
    "- `a /= b`\n",
    "  `a = a / b` と同じ"
   ]
  },
  {
   "cell_type": "code",
   "execution_count": 15,
   "metadata": {},
   "outputs": [
    {
     "name": "stdout",
     "output_type": "stream",
     "text": [
      "6\n"
     ]
    }
   ],
   "source": [
    "a = 3\n",
    "a = a + 3\n",
    "print(a)"
   ]
  },
  {
   "cell_type": "code",
   "execution_count": 16,
   "metadata": {},
   "outputs": [
    {
     "name": "stdout",
     "output_type": "stream",
     "text": [
      "6\n"
     ]
    }
   ],
   "source": [
    "a = 3\n",
    "a += 3\n",
    "print(a)"
   ]
  },
  {
   "cell_type": "markdown",
   "metadata": {},
   "source": [
    "#### 文字列演算\n",
    "- `+` 文字列の連結\n",
    "- `*` 文字列を定数回繰り返す"
   ]
  },
  {
   "cell_type": "code",
   "execution_count": 17,
   "metadata": {},
   "outputs": [
    {
     "name": "stdout",
     "output_type": "stream",
     "text": [
      "Hello, world! \n"
     ]
    }
   ],
   "source": [
    "s1 = \"Hello, \"\n",
    "s2 = \"world! \"\n",
    "s = s1 + s2\n",
    "print(s)"
   ]
  },
  {
   "cell_type": "code",
   "execution_count": 18,
   "metadata": {},
   "outputs": [
    {
     "name": "stdout",
     "output_type": "stream",
     "text": [
      "Hello, world! Hello, world! Hello, world! Hello, world! Hello, world! Hello, world! Hello, world! Hello, world! Hello, world! Hello, world! \n"
     ]
    }
   ],
   "source": [
    "print(s * 10)"
   ]
  },
  {
   "cell_type": "markdown",
   "metadata": {},
   "source": [
    "### 複合データ型\n",
    "複数のデータをまとめて扱う\n",
    "- `list` リスト\n",
    "- `tuple` タプル\n",
    "- `dict` 辞書"
   ]
  },
  {
   "cell_type": "markdown",
   "metadata": {},
   "source": [
    "#### リスト\n",
    "`[]`の中に複数の変数を`,`で区切って格納したもの"
   ]
  },
  {
   "cell_type": "code",
   "execution_count": 19,
   "metadata": {},
   "outputs": [
    {
     "name": "stdout",
     "output_type": "stream",
     "text": [
      "[1, 2, 3, 4, 5]\n"
     ]
    }
   ],
   "source": [
    "# リストを定義\n",
    "numbers = [1, 2, 3, 4, 5]\n",
    "print(numbers)"
   ]
  },
  {
   "cell_type": "code",
   "execution_count": 20,
   "metadata": {},
   "outputs": [
    {
     "data": {
      "text/plain": [
       "5"
      ]
     },
     "execution_count": 20,
     "metadata": {},
     "output_type": "execute_result"
    }
   ],
   "source": [
    "# 要素数の確認\n",
    "len(numbers)"
   ]
  },
  {
   "cell_type": "code",
   "execution_count": 21,
   "metadata": {},
   "outputs": [
    {
     "data": {
      "text/plain": [
       "1"
      ]
     },
     "execution_count": 21,
     "metadata": {},
     "output_type": "execute_result"
    }
   ],
   "source": [
    "# list[インデックス] で各要素にアクセスできる\n",
    "# 先頭が0から始まることに注意\n",
    "numbers[0]"
   ]
  },
  {
   "cell_type": "code",
   "execution_count": 22,
   "metadata": {},
   "outputs": [
    {
     "data": {
      "text/plain": [
       "5"
      ]
     },
     "execution_count": 22,
     "metadata": {},
     "output_type": "execute_result"
    }
   ],
   "source": [
    "# インデックスを負の値にすると末尾からの位置になる\n",
    "numbers[-1]"
   ]
  },
  {
   "cell_type": "code",
   "execution_count": 23,
   "metadata": {},
   "outputs": [
    {
     "ename": "IndexError",
     "evalue": "list index out of range",
     "output_type": "error",
     "traceback": [
      "\u001b[0;31m---------------------------------------------------------------------------\u001b[0m",
      "\u001b[0;31mIndexError\u001b[0m                                Traceback (most recent call last)",
      "\u001b[1;32m/Users/iamyou1208/RobotVision2023/first/python_tutorial.ipynb セル 32\u001b[0m line \u001b[0;36m3\n\u001b[1;32m      <a href='vscode-notebook-cell:/Users/iamyou1208/RobotVision2023/first/python_tutorial.ipynb#X43sZmlsZQ%3D%3D?line=0'>1</a>\u001b[0m \u001b[39m# 範囲外のインデックスを指定するとエラー\u001b[39;00m\n\u001b[1;32m      <a href='vscode-notebook-cell:/Users/iamyou1208/RobotVision2023/first/python_tutorial.ipynb#X43sZmlsZQ%3D%3D?line=1'>2</a>\u001b[0m \u001b[39m# pythonはエラー文が親切なので，しっかり読もう\u001b[39;00m\n\u001b[0;32m----> <a href='vscode-notebook-cell:/Users/iamyou1208/RobotVision2023/first/python_tutorial.ipynb#X43sZmlsZQ%3D%3D?line=2'>3</a>\u001b[0m numbers[\u001b[39m100\u001b[39;49m]\n",
      "\u001b[0;31mIndexError\u001b[0m: list index out of range"
     ]
    }
   ],
   "source": [
    "# 範囲外のインデックスを指定するとエラー\n",
    "# pythonはエラー文が親切なので，しっかり読もう\n",
    "numbers[100]"
   ]
  },
  {
   "cell_type": "code",
   "execution_count": 24,
   "metadata": {},
   "outputs": [
    {
     "name": "stdout",
     "output_type": "stream",
     "text": [
      "[2, 3]\n"
     ]
    }
   ],
   "source": [
    "# スライスを用いることで， リストから複数の値を取り出すことも\n",
    "# list[開始位置:終了位置]\n",
    "print(numbers[1:3])"
   ]
  },
  {
   "cell_type": "code",
   "execution_count": 25,
   "metadata": {},
   "outputs": [
    {
     "name": "stdout",
     "output_type": "stream",
     "text": [
      "[1, 2, 3]\n",
      "[4, 5]\n"
     ]
    }
   ],
   "source": [
    "# 先頭や末尾のインデックスは省略できる\n",
    "print(numbers[:3]) # numbers[0:3] と同じ\n",
    "print(numbers[3:]) # numbers[3:5] と同じ"
   ]
  },
  {
   "cell_type": "code",
   "execution_count": 26,
   "metadata": {},
   "outputs": [
    {
     "data": {
      "text/plain": [
       "[1, 2, 3, 4, 5, 6]"
      ]
     },
     "execution_count": 26,
     "metadata": {},
     "output_type": "execute_result"
    }
   ],
   "source": [
    "# 要素を追加\n",
    "numbers.append(6)\n",
    "numbers"
   ]
  },
  {
   "cell_type": "code",
   "execution_count": 113,
   "metadata": {},
   "outputs": [
    {
     "name": "stdout",
     "output_type": "stream",
     "text": [
      "[[1, 2, 3], [4, 5, 6], [7, 8, 9]]\n"
     ]
    }
   ],
   "source": [
    "# 2配列\n",
    "numbers_2d = [[1, 2, 3], \n",
    "              [4, 5, 6],\n",
    "              [7, 8, 9]]\n",
    "print(numbers_2d)"
   ]
  },
  {
   "cell_type": "markdown",
   "metadata": {},
   "source": [
    "#### タプル\n",
    "`()`の中に複数の変数を`,`区切りで格納したもの  \n",
    "リストとの違いとして，一度定義したタプルは中身を変更することができない"
   ]
  },
  {
   "cell_type": "code",
   "execution_count": 27,
   "metadata": {},
   "outputs": [],
   "source": [
    "assistants = (\"ishikawa\", \"kobayashi\")"
   ]
  },
  {
   "cell_type": "code",
   "execution_count": 28,
   "metadata": {},
   "outputs": [
    {
     "data": {
      "text/plain": [
       "'ishikawa'"
      ]
     },
     "execution_count": 28,
     "metadata": {},
     "output_type": "execute_result"
    }
   ],
   "source": [
    "# リストと同様に tuple[インデックス] で各要素にアクセスできる\n",
    "assistants[0]"
   ]
  },
  {
   "cell_type": "code",
   "execution_count": 29,
   "metadata": {},
   "outputs": [
    {
     "ename": "TypeError",
     "evalue": "'tuple' object does not support item assignment",
     "output_type": "error",
     "traceback": [
      "\u001b[0;31m---------------------------------------------------------------------------\u001b[0m",
      "\u001b[0;31mTypeError\u001b[0m                                 Traceback (most recent call last)",
      "\u001b[1;32m/Users/iamyou1208/RobotVision2023/first/python_tutorial.ipynb セル 39\u001b[0m line \u001b[0;36m2\n\u001b[1;32m      <a href='vscode-notebook-cell:/Users/iamyou1208/RobotVision2023/first/python_tutorial.ipynb#X53sZmlsZQ%3D%3D?line=0'>1</a>\u001b[0m \u001b[39m# タプルは途中で中身を変更できない\u001b[39;00m\n\u001b[0;32m----> <a href='vscode-notebook-cell:/Users/iamyou1208/RobotVision2023/first/python_tutorial.ipynb#X53sZmlsZQ%3D%3D?line=1'>2</a>\u001b[0m assistants[\u001b[39m0\u001b[39;49m] \u001b[39m=\u001b[39m \u001b[39m\"\u001b[39m\u001b[39mkasai\u001b[39m\u001b[39m\"\u001b[39m\n",
      "\u001b[0;31mTypeError\u001b[0m: 'tuple' object does not support item assignment"
     ]
    }
   ],
   "source": [
    "# タプルは途中で中身を変更できない\n",
    "assistants[0] = \"kasai\""
   ]
  },
  {
   "cell_type": "markdown",
   "metadata": {},
   "source": [
    "#### 辞書型\n",
    "キーとそれに対応する値を組み合わせて格納できる.  \n",
    "`{key: value}`の形で書く."
   ]
  },
  {
   "cell_type": "code",
   "execution_count": 30,
   "metadata": {},
   "outputs": [],
   "source": [
    "grades = {\"signal processing\": \"A\", \"LSI\": \"C\", \"Informatics engineering\": \"S\"}"
   ]
  },
  {
   "cell_type": "code",
   "execution_count": 31,
   "metadata": {},
   "outputs": [
    {
     "data": {
      "text/plain": [
       "'A'"
      ]
     },
     "execution_count": 31,
     "metadata": {},
     "output_type": "execute_result"
    }
   ],
   "source": [
    "# dict[key] で 値を参照できる\n",
    "grades[\"signal processing\"]"
   ]
  },
  {
   "cell_type": "code",
   "execution_count": 32,
   "metadata": {},
   "outputs": [
    {
     "name": "stdout",
     "output_type": "stream",
     "text": [
      "D\n"
     ]
    }
   ],
   "source": [
    "# 値を入れ直すこともできる\n",
    "grades[\"LSI\"] = \"D\"\n",
    "print(grades[\"LSI\"])"
   ]
  },
  {
   "cell_type": "code",
   "execution_count": 33,
   "metadata": {},
   "outputs": [
    {
     "data": {
      "text/plain": [
       "dict_keys(['signal processing', 'LSI', 'Informatics engineering'])"
      ]
     },
     "execution_count": 33,
     "metadata": {},
     "output_type": "execute_result"
    }
   ],
   "source": [
    "# dict.keys() キーの一覧を取り出す\n",
    "grades.keys()"
   ]
  },
  {
   "cell_type": "code",
   "execution_count": 34,
   "metadata": {},
   "outputs": [
    {
     "data": {
      "text/plain": [
       "dict_values(['A', 'D', 'S'])"
      ]
     },
     "execution_count": 34,
     "metadata": {},
     "output_type": "execute_result"
    }
   ],
   "source": [
    "# dict.values() 値の一覧を取り出す\n",
    "grades.values()"
   ]
  },
  {
   "cell_type": "code",
   "execution_count": 35,
   "metadata": {},
   "outputs": [
    {
     "data": {
      "text/plain": [
       "dict_items([('signal processing', 'A'), ('LSI', 'D'), ('Informatics engineering', 'S')])"
      ]
     },
     "execution_count": 35,
     "metadata": {},
     "output_type": "execute_result"
    }
   ],
   "source": [
    "# dict.items() キーと値の二つを取り出す\n",
    "grades.items()"
   ]
  },
  {
   "cell_type": "markdown",
   "metadata": {},
   "source": [
    "### 制御構文\n",
    "\n",
    "- 繰り返し (`for` `while`)\n",
    "- 条件分岐 (`if` `else` `elif`)\n",
    "\n",
    "C言語では，繰り返しの処理や条件分岐内の処理を`{}`で囲っていた\n",
    "例)\n",
    "```c\n",
    "if (条件式) {\n",
    "    なんらかの式\n",
    "}\n",
    "```\n",
    "\n",
    "pythonはインデント記法を採用しているため, `{}`で囲う必要はなく，  \n",
    "その代わり`:`とインデント(スペース)を用いてこれらの処理を書く\n",
    "\n",
    "```python\n",
    "if 条件式:\n",
    "    なんらかの処理\n",
    "```"
   ]
  },
  {
   "cell_type": "markdown",
   "metadata": {},
   "source": [
    "#### for文\n",
    "\n",
    "イテラブルオブジェクト(反復可能なオブジェクト)を用いた構文．  \n",
    "listなどもイテラブルオブジェクトになる．\n",
    "`range()`という組み込みの関数を使うと，  \n",
    "指定した回数分の整数をもつイテラブルオブジェクトを作ってくれる\n",
    "```python\n",
    "for 変数 in イテラブルオブジェクト:\n",
    "    なんらかの処理\n",
    "```"
   ]
  },
  {
   "cell_type": "code",
   "execution_count": 36,
   "metadata": {},
   "outputs": [
    {
     "name": "stdout",
     "output_type": "stream",
     "text": [
      "0\n",
      "1\n",
      "2\n",
      "3\n",
      "4\n"
     ]
    }
   ],
   "source": [
    "# リストの要素を一つずつ取り出す\n",
    "for i in [0, 1, 2, 3, 4]:\n",
    "    print(i)"
   ]
  },
  {
   "cell_type": "code",
   "execution_count": 37,
   "metadata": {
    "scrolled": true
   },
   "outputs": [
    {
     "name": "stdout",
     "output_type": "stream",
     "text": [
      "0\n",
      "1\n",
      "2\n",
      "3\n",
      "4\n"
     ]
    }
   ],
   "source": [
    "# range()関数を使うと，リストを手書きする必要がない\n",
    "for i in range(5):\n",
    "    print(i)"
   ]
  },
  {
   "cell_type": "code",
   "execution_count": 38,
   "metadata": {},
   "outputs": [
    {
     "name": "stdout",
     "output_type": "stream",
     "text": [
      "10\n",
      "11\n",
      "12\n"
     ]
    }
   ],
   "source": [
    "# (開始位置, 終了位置)も指定するすことができる\n",
    "for i in range(10, 13):\n",
    "    print(i)"
   ]
  },
  {
   "cell_type": "code",
   "execution_count": 39,
   "metadata": {},
   "outputs": [
    {
     "name": "stdout",
     "output_type": "stream",
     "text": [
      "2\n",
      "3\n",
      "4\n",
      "7\n",
      "11\n",
      "13\n",
      "17\n",
      "19\n"
     ]
    }
   ],
   "source": [
    "# リストもイテラブルオブジェクト\n",
    "prime_numbers = [2, 3, 4, 7, 11, 13, 17, 19]\n",
    "for n in prime_numbers:\n",
    "    print(n)"
   ]
  },
  {
   "cell_type": "code",
   "execution_count": 40,
   "metadata": {},
   "outputs": [
    {
     "name": "stdout",
     "output_type": "stream",
     "text": [
      "2\n",
      "3\n",
      "4\n",
      "7\n",
      "11\n",
      "13\n",
      "17\n",
      "19\n"
     ]
    }
   ],
   "source": [
    "# rangeを使ってリストの中身を取り出すこともできる\n",
    "N = len(prime_numbers)\n",
    "for i in range(N):\n",
    "    print(prime_numbers[i])"
   ]
  },
  {
   "cell_type": "code",
   "execution_count": 41,
   "metadata": {},
   "outputs": [
    {
     "name": "stdout",
     "output_type": "stream",
     "text": [
      "signal processing\n",
      "LSI\n",
      "Informatics engineering\n"
     ]
    }
   ],
   "source": [
    "# dict.keys(), dict.values(), dict.items() もイテラブルオブジェクトを返している\n",
    "grades = {\"signal processing\": \"A\", \"LSI\": \"C\", \"Informatics engineering\": \"S\"}\n",
    "for key in grades.keys():\n",
    "    print(key)"
   ]
  },
  {
   "cell_type": "code",
   "execution_count": 42,
   "metadata": {},
   "outputs": [
    {
     "name": "stdout",
     "output_type": "stream",
     "text": [
      "A\n",
      "C\n",
      "S\n"
     ]
    }
   ],
   "source": [
    "for val in grades.values():\n",
    "    print(val)"
   ]
  },
  {
   "cell_type": "code",
   "execution_count": 43,
   "metadata": {},
   "outputs": [
    {
     "name": "stdout",
     "output_type": "stream",
     "text": [
      "signal processing A\n",
      "LSI C\n",
      "Informatics engineering S\n"
     ]
    }
   ],
   "source": [
    "for key, val in grades.items():\n",
    "    print(key, val)"
   ]
  },
  {
   "cell_type": "markdown",
   "metadata": {},
   "source": [
    "#### if文\n",
    "\n",
    "条件を満たしたかどうか(`True` or `False`)で処理を変えるための構文\n",
    "\n",
    "```python\n",
    "if 条件1:\n",
    "    処理1  # 条件1を満たした時\n",
    "elif 条件2:\n",
    "    処理2  # 条件1を満たしていなく，かつ条件2を満たした時\n",
    "else:\n",
    "    処理3  # 条件1も条件2も満たしていない時\n",
    "```\n"
   ]
  },
  {
   "cell_type": "markdown",
   "metadata": {},
   "source": [
    "条件式の書き方．比較演算子とブール演算子を組み合わせて書く．\n",
    "- 比較演算子\n",
    "  - `a == b` aとbが等しい \n",
    "  - `a != b` aとbが異なる\n",
    "  - `a < b` aがbよりも小さい\n",
    "  - `a > b` aがbよりも大きい\n",
    "  - `a >= b` aがb以上\n",
    "  - `a <= b` aがb以下\n",
    "  - `a in b` aがbに含まれる\n",
    "- ブール演算子\n",
    "  - `A and B` AとBが真なら真\n",
    "  - `A or B` AかBが真なら真\n",
    "  - `not A` Aが偽なら真"
   ]
  },
  {
   "cell_type": "code",
   "execution_count": 44,
   "metadata": {},
   "outputs": [
    {
     "name": "stdout",
     "output_type": "stream",
     "text": [
      "Small\n"
     ]
    }
   ],
   "source": [
    "x = 10\n",
    "if x >= 100:\n",
    "    print(\"Too large\")\n",
    "elif x > 50:\n",
    "    print(\"Large\")\n",
    "elif x == 50:\n",
    "    print(\"Bingo!\")\n",
    "elif 10 <= x and x < 50:\n",
    "    print(\"Small\")\n",
    "else:\n",
    "    print(\"Too small\")"
   ]
  },
  {
   "cell_type": "code",
   "execution_count": 45,
   "metadata": {},
   "outputs": [
    {
     "name": "stdout",
     "output_type": "stream",
     "text": [
      "True\n"
     ]
    }
   ],
   "source": [
    "# 10 <= x and x < 50 の書き換え\n",
    "x = 30\n",
    "if 10 <= x < 50:\n",
    "    print(\"True\")"
   ]
  },
  {
   "cell_type": "code",
   "execution_count": 46,
   "metadata": {},
   "outputs": [
    {
     "name": "stdout",
     "output_type": "stream",
     "text": [
      "True\n"
     ]
    }
   ],
   "source": [
    "# in 演算子\n",
    "x = 5\n",
    "numbers = [1, 2, 3, 4, 5]\n",
    "if x in numbers:\n",
    "    print(\"True\")\n",
    "else:\n",
    "    print(\"False\")"
   ]
  },
  {
   "cell_type": "markdown",
   "metadata": {},
   "source": [
    "#### while文\n",
    "\n",
    "条件を満たしている間，ループし続ける．  \n",
    "適切に条件を指定したり，終了条件を定めないと無限ループしてしまう\n",
    "```python\n",
    "while 条件式:\n",
    "    処理\n",
    "```"
   ]
  },
  {
   "cell_type": "code",
   "execution_count": 47,
   "metadata": {},
   "outputs": [
    {
     "name": "stdout",
     "output_type": "stream",
     "text": [
      "1\n",
      "2\n",
      "3\n",
      "4\n",
      "5\n",
      "6\n",
      "7\n",
      "8\n",
      "9\n",
      "10\n"
     ]
    }
   ],
   "source": [
    "x = 0\n",
    "while x < 10:\n",
    "    x += 1\n",
    "    print(x)"
   ]
  },
  {
   "cell_type": "code",
   "execution_count": 111,
   "metadata": {},
   "outputs": [
    {
     "ename": "KeyboardInterrupt",
     "evalue": "",
     "output_type": "error",
     "traceback": [
      "\u001b[0;31m---------------------------------------------------------------------------\u001b[0m",
      "\u001b[0;31mKeyboardInterrupt\u001b[0m                         Traceback (most recent call last)",
      "\u001b[1;32m/Users/iamyou1208/RobotVision2023/first/python_tutorial.ipynb セル 64\u001b[0m line \u001b[0;36m4\n\u001b[1;32m      <a href='vscode-notebook-cell:/Users/iamyou1208/RobotVision2023/first/python_tutorial.ipynb#Y120sZmlsZQ%3D%3D?line=0'>1</a>\u001b[0m \u001b[39m# 無限にループしてしまう！！  \u001b[39;00m\n\u001b[1;32m      <a href='vscode-notebook-cell:/Users/iamyou1208/RobotVision2023/first/python_tutorial.ipynb#Y120sZmlsZQ%3D%3D?line=1'>2</a>\u001b[0m \u001b[39m# jupyter notebook中の停止ボタンで，セル内の処理を止めることができる\u001b[39;00m\n\u001b[1;32m      <a href='vscode-notebook-cell:/Users/iamyou1208/RobotVision2023/first/python_tutorial.ipynb#Y120sZmlsZQ%3D%3D?line=2'>3</a>\u001b[0m x \u001b[39m=\u001b[39m \u001b[39m0\u001b[39m\n\u001b[0;32m----> <a href='vscode-notebook-cell:/Users/iamyou1208/RobotVision2023/first/python_tutorial.ipynb#Y120sZmlsZQ%3D%3D?line=3'>4</a>\u001b[0m \u001b[39mwhile\u001b[39;00m \u001b[39mTrue\u001b[39;00m:\n\u001b[1;32m      <a href='vscode-notebook-cell:/Users/iamyou1208/RobotVision2023/first/python_tutorial.ipynb#Y120sZmlsZQ%3D%3D?line=4'>5</a>\u001b[0m    x \u001b[39m+\u001b[39m\u001b[39m=\u001b[39m \u001b[39m1\u001b[39m \n",
      "\u001b[0;31mKeyboardInterrupt\u001b[0m: "
     ]
    }
   ],
   "source": [
    "# 無限にループしてしまう！！  \n",
    "# jupyter notebook中の停止ボタンで，セル内の処理を止めることができる\n",
    "x = 0\n",
    "while True:\n",
    "   x += 1 "
   ]
  },
  {
   "cell_type": "code",
   "execution_count": 49,
   "metadata": {},
   "outputs": [
    {
     "name": "stdout",
     "output_type": "stream",
     "text": [
      "100\n"
     ]
    }
   ],
   "source": [
    "# break 文を使ってループを抜けることができる\n",
    "# whileやforの先頭に戻るcontinue文もある\n",
    "x = 0\n",
    "while True:\n",
    "    x += 1\n",
    "    if x >= 100:\n",
    "        break\n",
    "print(x)"
   ]
  },
  {
   "cell_type": "code",
   "execution_count": 50,
   "metadata": {},
   "outputs": [
    {
     "name": "stdout",
     "output_type": "stream",
     "text": [
      "x 51\n",
      "y 17\n"
     ]
    }
   ],
   "source": [
    "# continue文の例\n",
    "x = 0\n",
    "y = 0\n",
    "while True:\n",
    "    x += 1\n",
    "    \n",
    "    if x % 3 != 0:\n",
    "        continue\n",
    "    \n",
    "    y += 1\n",
    "    \n",
    "    if x >= 50:\n",
    "        break\n",
    "\n",
    "print(\"x\", x)\n",
    "print(\"y\", y)"
   ]
  },
  {
   "cell_type": "markdown",
   "metadata": {},
   "source": [
    "#### 演習1 FizzBuzz問題を解いてみよう\n",
    "1から100までの数字を画面に表示する．  \n",
    "その際に，数字が3の倍数の時は，数字の代わりに \"Fizz\"と出力する．\n",
    "同様に5の倍数の時は，\"Buzz\"と出力し，\n",
    "3の倍数でもあり5の倍数でもある時は\"FizzBuzz\"と出力しよう．\n",
    "\n",
    "\n",
    "**期待する出力**\n",
    "```\n",
    "1\n",
    "2\n",
    "Fizz\n",
    "4\n",
    "Buzz\n",
    "Fizz\n",
    "7\n",
    "8\n",
    "Fizz\n",
    "Buzz\n",
    "11\n",
    "Fizz\n",
    "13\n",
    "14\n",
    "FizzBuzz\n",
    "```"
   ]
  },
  {
   "cell_type": "code",
   "execution_count": 51,
   "metadata": {},
   "outputs": [],
   "source": [
    "# write codes here\n"
   ]
  },
  {
   "cell_type": "markdown",
   "metadata": {},
   "source": [
    "### 関数の定義\n",
    "\n",
    "`def`を用いて関数を定義する．  \n",
    "関数も`:`とインデントを用いる．\n",
    "```python\n",
    "def func(引数):\n",
    "    処理\n",
    "```"
   ]
  },
  {
   "cell_type": "code",
   "execution_count": 52,
   "metadata": {},
   "outputs": [],
   "source": [
    "def double(x):\n",
    "    print(2 * x)"
   ]
  },
  {
   "cell_type": "code",
   "execution_count": 53,
   "metadata": {},
   "outputs": [
    {
     "name": "stdout",
     "output_type": "stream",
     "text": [
      "20\n"
     ]
    }
   ],
   "source": [
    "double(10)"
   ]
  },
  {
   "cell_type": "code",
   "execution_count": 54,
   "metadata": {},
   "outputs": [],
   "source": [
    "# 引数を複数指定することもできる\n",
    "def add(x, y):\n",
    "    print(x + y)"
   ]
  },
  {
   "cell_type": "code",
   "execution_count": 55,
   "metadata": {},
   "outputs": [
    {
     "name": "stdout",
     "output_type": "stream",
     "text": [
      "5\n"
     ]
    }
   ],
   "source": [
    "add(3, 2)"
   ]
  },
  {
   "cell_type": "code",
   "execution_count": 56,
   "metadata": {},
   "outputs": [],
   "source": [
    "# 返り値は return で返すことができる\n",
    "def add(x, y):\n",
    "    return x + y "
   ]
  },
  {
   "cell_type": "code",
   "execution_count": 57,
   "metadata": {},
   "outputs": [
    {
     "name": "stdout",
     "output_type": "stream",
     "text": [
      "30\n"
     ]
    }
   ],
   "source": [
    "result = add(10, 20)\n",
    "print(result)"
   ]
  },
  {
   "cell_type": "markdown",
   "metadata": {},
   "source": [
    "### クラス\n",
    "\n",
    "例えば，青木研究室のメンバーの名簿を作ることを考える．  \n",
    "それぞれのメンバーには苗字，名前，メールの情報を入れたい．\n",
    "愚直に実装すると\n",
    "```python\n",
    "members = [\n",
    "    {\"first_name\": \"Yoshimitsu\", \"last_name\": \"Aoki\", \"email\": \"aoki@elec.keio.ac.jp\"},\n",
    "    {\"first_name\": \"Yuchi\", \"last_name\": \"Ishikawa\", \"email\": \"aoki@elec.keio.ac.jp\"},\n",
    "    {\"first_name\": \"Takuya\", \"last_name\": \"Kobayashi\", \"email\": \"aoki@elec.keio.ac.jp\"},\n",
    "]\n",
    "```\n",
    "\n",
    "となるが，各メンバーを構成する要素は同じ．  \n",
    "-> 共通の設計図(クラス)を作ってあげると，各メンバーに属している変数(属性)や共通の振る舞い(メソッド)をもつ，メンバー(インスタンス)を作るのが簡単になる．"
   ]
  },
  {
   "cell_type": "code",
   "execution_count": 58,
   "metadata": {},
   "outputs": [],
   "source": [
    "# クラスを定義\n",
    "class Member:\n",
    "    # インスタンス化する時に呼び出される関数\n",
    "    # selfはインスタンス自身を表す\n",
    "    def __init__(self, first_name, last_name, email):\n",
    "        self.first_name = first_name \n",
    "        self.last_name = last_name\n",
    "        self.email = email"
   ]
  },
  {
   "cell_type": "code",
   "execution_count": 59,
   "metadata": {},
   "outputs": [
    {
     "name": "stdout",
     "output_type": "stream",
     "text": [
      "Yoshimitsu\n",
      "aoki@elec.keio.ac.jp\n"
     ]
    }
   ],
   "source": [
    "aoki = Member(first_name=\"Yoshimitsu\", last_name=\"Aoki\", email=\"aoki@elec.keio.ac.jp\")\n",
    "print(aoki.first_name)\n",
    "print(aoki.email)"
   ]
  },
  {
   "cell_type": "code",
   "execution_count": 60,
   "metadata": {},
   "outputs": [],
   "source": [
    "# クラスを定義\n",
    "class Member:\n",
    "    # インスタンス化する時に呼び出される関数\n",
    "    # selfはインスタンス自身を表す\n",
    "    def __init__(self, first_name, last_name, email):\n",
    "        self.first_name = first_name \n",
    "        self.last_name = last_name\n",
    "        self.email = email\n",
    "    \n",
    "    def self_introduction(self):\n",
    "        print(\"Hi, there! I'm\", self.first_name, self.last_name)"
   ]
  },
  {
   "cell_type": "code",
   "execution_count": 61,
   "metadata": {},
   "outputs": [
    {
     "name": "stdout",
     "output_type": "stream",
     "text": [
      "Hi, there! I'm Yoshimitsu Aoki\n"
     ]
    }
   ],
   "source": [
    "aoki = Member(first_name=\"Yoshimitsu\", last_name=\"Aoki\", email=\"aoki@elec.keio.ac.jp\")\n",
    "aoki.self_introduction()"
   ]
  },
  {
   "cell_type": "code",
   "execution_count": 62,
   "metadata": {},
   "outputs": [
    {
     "name": "stdout",
     "output_type": "stream",
     "text": [
      "Hi, there! I'm Takuya Kobayashi\n"
     ]
    }
   ],
   "source": [
    "kobayashi = Member(first_name=\"Takuya\", last_name=\"Kobayashi\", email=\"kobayashi@aoki-medialab.jp\")\n",
    "kobayashi.self_introduction()"
   ]
  },
  {
   "cell_type": "markdown",
   "metadata": {},
   "source": [
    "## numpy\n",
    "高速に配列計算を行うためのライブラリ"
   ]
  },
  {
   "cell_type": "code",
   "execution_count": 63,
   "metadata": {},
   "outputs": [],
   "source": [
    "# ライブラリをインポート. numpyはnpとして扱うのが慣例\n",
    "import numpy as np"
   ]
  },
  {
   "cell_type": "code",
   "execution_count": 64,
   "metadata": {},
   "outputs": [
    {
     "name": "stdout",
     "output_type": "stream",
     "text": [
      "[1 2 3]\n",
      "<class 'numpy.ndarray'>\n"
     ]
    }
   ],
   "source": [
    "# 1次元配列を作る\n",
    "# np.array にリストを入れることで，1次元配列を定義できる\n",
    "arr1 = np.array([1, 2, 3])\n",
    "print(arr1)\n",
    "print(type(arr1))"
   ]
  },
  {
   "cell_type": "code",
   "execution_count": 65,
   "metadata": {},
   "outputs": [
    {
     "name": "stdout",
     "output_type": "stream",
     "text": [
      "足し算:  [5 7 9]\n",
      "引き算:  [-3 -3 -3]\n",
      "直積:  [ 4 10 18]\n",
      "内積:  32\n"
     ]
    }
   ],
   "source": [
    "arr2 = np.array([4, 5, 6])\n",
    "\n",
    "# もちろん演算も簡単にできる\n",
    "print(\"足し算: \", arr1 + arr2)\n",
    "print(\"引き算: \", arr1 - arr2)\n",
    "print(\"直積: \", arr1 * arr2)\n",
    "print(\"内積: \", np.dot(arr1, arr2))"
   ]
  },
  {
   "cell_type": "code",
   "execution_count": 66,
   "metadata": {},
   "outputs": [
    {
     "name": "stdout",
     "output_type": "stream",
     "text": [
      "[[1 2 3]\n",
      " [4 5 6]]\n"
     ]
    }
   ],
   "source": [
    "# 多次元配列を定義\n",
    "arr3 = np.array([[1,2,3],[4,5,6]])\n",
    "arr4 = np.array([[4,5,6],[7,8,9]])\n",
    "print(arr3)"
   ]
  },
  {
   "cell_type": "code",
   "execution_count": 67,
   "metadata": {},
   "outputs": [
    {
     "name": "stdout",
     "output_type": "stream",
     "text": [
      "(2, 3)\n"
     ]
    }
   ],
   "source": [
    "# 形状を表示\n",
    "print(arr3.shape)"
   ]
  },
  {
   "cell_type": "code",
   "execution_count": 68,
   "metadata": {},
   "outputs": [
    {
     "name": "stdout",
     "output_type": "stream",
     "text": [
      "足し算:  [[ 5  7  9]\n",
      " [11 13 15]]\n",
      "引き算:  [[-3 -3 -3]\n",
      " [-3 -3 -3]]\n",
      "直積:  [[ 4 10 18]\n",
      " [28 40 54]]\n"
     ]
    }
   ],
   "source": [
    "# 同様に演算ができる\n",
    "print(\"足し算: \", arr3 + arr4)\n",
    "print(\"引き算: \", arr3 - arr4)\n",
    "print(\"直積: \", arr3 * arr4)"
   ]
  },
  {
   "cell_type": "code",
   "execution_count": 69,
   "metadata": {},
   "outputs": [
    {
     "ename": "ValueError",
     "evalue": "shapes (2,3) and (2,3) not aligned: 3 (dim 1) != 2 (dim 0)",
     "output_type": "error",
     "traceback": [
      "\u001b[0;31m---------------------------------------------------------------------------\u001b[0m",
      "\u001b[0;31mValueError\u001b[0m                                Traceback (most recent call last)",
      "\u001b[1;32m/Users/iamyou1208/RobotVision2023/first/python_tutorial.ipynb セル 89\u001b[0m line \u001b[0;36m3\n\u001b[1;32m      <a href='vscode-notebook-cell:/Users/iamyou1208/RobotVision2023/first/python_tutorial.ipynb#Y154sZmlsZQ%3D%3D?line=0'>1</a>\u001b[0m \u001b[39m# arr3 の列数と， arr4の行数が一致していないと内積は計算できない\u001b[39;00m\n\u001b[1;32m      <a href='vscode-notebook-cell:/Users/iamyou1208/RobotVision2023/first/python_tutorial.ipynb#Y154sZmlsZQ%3D%3D?line=1'>2</a>\u001b[0m \u001b[39m# error!\u001b[39;00m\n\u001b[0;32m----> <a href='vscode-notebook-cell:/Users/iamyou1208/RobotVision2023/first/python_tutorial.ipynb#Y154sZmlsZQ%3D%3D?line=2'>3</a>\u001b[0m np\u001b[39m.\u001b[39;49mdot(arr3, arr4)\n",
      "File \u001b[0;32m<__array_function__ internals>:200\u001b[0m, in \u001b[0;36mdot\u001b[0;34m(*args, **kwargs)\u001b[0m\n",
      "\u001b[0;31mValueError\u001b[0m: shapes (2,3) and (2,3) not aligned: 3 (dim 1) != 2 (dim 0)"
     ]
    }
   ],
   "source": [
    "# arr3 の列数と， arr4の行数が一致していないと内積は計算できない\n",
    "# error!\n",
    "np.dot(arr3, arr4)"
   ]
  },
  {
   "cell_type": "code",
   "execution_count": 70,
   "metadata": {},
   "outputs": [
    {
     "name": "stdout",
     "output_type": "stream",
     "text": [
      "(2, 3)\n",
      "(3, 2)\n"
     ]
    }
   ],
   "source": [
    "# 転置をしてから内積を取る\n",
    "print(arr4.shape)\n",
    "arr4_t = arr4.T\n",
    "print(arr4_t.shape)"
   ]
  },
  {
   "cell_type": "code",
   "execution_count": 71,
   "metadata": {},
   "outputs": [
    {
     "name": "stdout",
     "output_type": "stream",
     "text": [
      "[[ 32  50]\n",
      " [ 77 122]]\n"
     ]
    }
   ],
   "source": [
    "print(np.dot(arr3, arr4_t))"
   ]
  },
  {
   "cell_type": "markdown",
   "metadata": {},
   "source": [
    "#### ブロードキャスト\n",
    "異なる形状の配列を計算する際に，一定のルールに基づいて形状が同じになるように自動で変換してくれる機能\n",
    "\n",
    "具体的には以下のようなルールで実行される\n",
    "- 次元数を揃える\n",
    "  2つの配列の次元数が異なる場合、次元数が少ない方の配列の先頭にサイズ（長さ）が1の新しい次元を追加して次元数を揃える。\n",
    "- 各次元のサイズ（長さ）を揃える\n",
    "  2つの配列の各次元のサイズが一致しない場合、サイズが1である次元は他方の配列の次元のサイズに引き伸ばされる（値が繰り返される）。\n",
    "- 2つの配列のどちらのサイズも1ではない次元が存在するとブロードキャストできずにエラーとなる。"
   ]
  },
  {
   "cell_type": "code",
   "execution_count": 72,
   "metadata": {},
   "outputs": [],
   "source": [
    "arr5 = np.array([1, 2, 3])\n",
    "arr6 = np.array([[5, 6, 7], [8, 9, 10]])"
   ]
  },
  {
   "cell_type": "code",
   "execution_count": 73,
   "metadata": {},
   "outputs": [
    {
     "data": {
      "text/plain": [
       "array([10, 20, 30])"
      ]
     },
     "execution_count": 73,
     "metadata": {},
     "output_type": "execute_result"
    }
   ],
   "source": [
    "arr5 * 10"
   ]
  },
  {
   "cell_type": "code",
   "execution_count": 74,
   "metadata": {},
   "outputs": [
    {
     "data": {
      "text/plain": [
       "array([[ 5, 12, 21],\n",
       "       [ 8, 18, 30]])"
      ]
     },
     "execution_count": 74,
     "metadata": {},
     "output_type": "execute_result"
    }
   ],
   "source": [
    "arr5 * arr6"
   ]
  },
  {
   "cell_type": "code",
   "execution_count": 76,
   "metadata": {},
   "outputs": [
    {
     "ename": "ValueError",
     "evalue": "operands could not be broadcast together with shapes (3,) (2,) ",
     "output_type": "error",
     "traceback": [
      "\u001b[0;31m---------------------------------------------------------------------------\u001b[0m",
      "\u001b[0;31mValueError\u001b[0m                                Traceback (most recent call last)",
      "\u001b[1;32m/Users/iamyou1208/RobotVision2023/first/python_tutorial.ipynb セル 96\u001b[0m line \u001b[0;36m4\n\u001b[1;32m      <a href='vscode-notebook-cell:/Users/iamyou1208/RobotVision2023/first/python_tutorial.ipynb#Y164sZmlsZQ%3D%3D?line=0'>1</a>\u001b[0m \u001b[39m# ブロードキャストできない例\u001b[39;00m\n\u001b[1;32m      <a href='vscode-notebook-cell:/Users/iamyou1208/RobotVision2023/first/python_tutorial.ipynb#Y164sZmlsZQ%3D%3D?line=1'>2</a>\u001b[0m \u001b[39m# error!\u001b[39;00m\n\u001b[1;32m      <a href='vscode-notebook-cell:/Users/iamyou1208/RobotVision2023/first/python_tutorial.ipynb#Y164sZmlsZQ%3D%3D?line=2'>3</a>\u001b[0m arr7 \u001b[39m=\u001b[39m np\u001b[39m.\u001b[39marray([\u001b[39m2\u001b[39m, \u001b[39m3\u001b[39m])\n\u001b[0;32m----> <a href='vscode-notebook-cell:/Users/iamyou1208/RobotVision2023/first/python_tutorial.ipynb#Y164sZmlsZQ%3D%3D?line=3'>4</a>\u001b[0m arr5 \u001b[39m*\u001b[39;49m arr7\n",
      "\u001b[0;31mValueError\u001b[0m: operands could not be broadcast together with shapes (3,) (2,) "
     ]
    }
   ],
   "source": [
    "# ブロードキャストできない例\n",
    "# error!\n",
    "arr7 = np.array([2, 3])\n",
    "arr5 * arr7"
   ]
  },
  {
   "cell_type": "code",
   "execution_count": 77,
   "metadata": {},
   "outputs": [
    {
     "name": "stdout",
     "output_type": "stream",
     "text": [
      "[[1 2 3]\n",
      " [4 5 6]\n",
      " [7 8 9]]\n"
     ]
    }
   ],
   "source": [
    "# インデックスを指定することで配列の一部を取り出せる\n",
    "arr = np.array([[1, 2, 3], [4, 5, 6], [7, 8, 9]])\n",
    "print(arr)"
   ]
  },
  {
   "cell_type": "code",
   "execution_count": 78,
   "metadata": {},
   "outputs": [
    {
     "name": "stdout",
     "output_type": "stream",
     "text": [
      "[1 2 3]\n"
     ]
    }
   ],
   "source": [
    "# 1行目を取り出す\n",
    "print(arr[0])"
   ]
  },
  {
   "cell_type": "code",
   "execution_count": 79,
   "metadata": {},
   "outputs": [
    {
     "name": "stdout",
     "output_type": "stream",
     "text": [
      "[1 4 7]\n"
     ]
    }
   ],
   "source": [
    "# 1列目を取り出す\n",
    "# [:]， は[0:]の省略\n",
    "print(arr[:, 0])"
   ]
  },
  {
   "cell_type": "code",
   "execution_count": 80,
   "metadata": {},
   "outputs": [
    {
     "name": "stdout",
     "output_type": "stream",
     "text": [
      "6\n",
      "6\n"
     ]
    }
   ],
   "source": [
    "# 2行3列目を取り出す\n",
    "print(arr[1, 2])\n",
    "print(arr[1][2])"
   ]
  },
  {
   "cell_type": "markdown",
   "metadata": {},
   "source": [
    "#### np.where()\n",
    "指定した条件を満たす配列内の要素のインデックスを見つけたり、特定の条件を満たす要素に新しい値を割り当てたりするのに役立つ"
   ]
  },
  {
   "cell_type": "code",
   "execution_count": 86,
   "metadata": {},
   "outputs": [
    {
     "name": "stdout",
     "output_type": "stream",
     "text": [
      "(array([2, 3, 4]),)\n"
     ]
    }
   ],
   "source": [
    "# 例: 1次元配列での利用\n",
    "arr_1d = np.array([1, 2, 3, 4, 5])\n",
    "print(np.where(arr_1d > 2))"
   ]
  },
  {
   "cell_type": "code",
   "execution_count": 88,
   "metadata": {},
   "outputs": [
    {
     "name": "stdout",
     "output_type": "stream",
     "text": [
      "[[1 2 3]\n",
      " [4 5 6]\n",
      " [7 8 9]]\n",
      "(array([1, 1, 1, 2, 2, 2]), array([0, 1, 2, 0, 1, 2]))\n"
     ]
    }
   ],
   "source": [
    "# 例: 2次元配列での利用\n",
    "arr_2d = np.array([[1, 2, 3], [4, 5, 6], [7, 8, 9]])\n",
    "print(arr_2d)\n",
    "print(np.where(arr_2d > 3))"
   ]
  },
  {
   "cell_type": "code",
   "execution_count": 89,
   "metadata": {},
   "outputs": [
    {
     "name": "stdout",
     "output_type": "stream",
     "text": [
      "[  1   2 100 100 100]\n"
     ]
    }
   ],
   "source": [
    "# 特定の条件を満たす要素に新しい値を割り当てる例\n",
    "new_arr = np.where(arr > 2, 100, arr)\n",
    "print(new_arr)"
   ]
  },
  {
   "cell_type": "code",
   "execution_count": 91,
   "metadata": {},
   "outputs": [
    {
     "name": "stdout",
     "output_type": "stream",
     "text": [
      "[  8  16  24 -36 -45 -54]\n"
     ]
    }
   ],
   "source": [
    "# マスクの利用\n",
    "mask = np.array([1, 1, 1, 0, 0, 0])\n",
    "arr8 = np.array([8, 16, 24, 32, 40, 48])\n",
    "arr9 = np.array([-9, -18, -27, -36, -45, -54])\n",
    "masked = np.where(mask, arr8, arr9)\n",
    "print(masked)"
   ]
  },
  {
   "cell_type": "markdown",
   "metadata": {},
   "source": [
    "## opencv\n",
    "画像や動画の読み込み，編集，書き出し等を行うライブラリ"
   ]
  },
  {
   "cell_type": "code",
   "execution_count": 92,
   "metadata": {},
   "outputs": [],
   "source": [
    "import cv2"
   ]
  },
  {
   "cell_type": "markdown",
   "metadata": {},
   "source": [
    "サンプル画像(color.jpg)\n",
    "\n",
    "![](color.jpg)"
   ]
  },
  {
   "cell_type": "code",
   "execution_count": 96,
   "metadata": {},
   "outputs": [],
   "source": [
    "# 画像を読み込む\n",
    "# RGBではなくBGRとして読み込まれることに注意\n",
    "img = cv2.imread(\"color.jpg\")"
   ]
  },
  {
   "cell_type": "code",
   "execution_count": 97,
   "metadata": {
    "scrolled": true
   },
   "outputs": [
    {
     "name": "stdout",
     "output_type": "stream",
     "text": [
      "[[[  0   0   0]\n",
      "  [  0   0   0]\n",
      "  [  1   1   1]\n",
      "  ...\n",
      "  [254 254 254]\n",
      "  [255 255 255]\n",
      "  [255 255 255]]\n",
      "\n",
      " [[  0   0   0]\n",
      "  [  0   0   0]\n",
      "  [  0   0   0]\n",
      "  ...\n",
      "  [254 254 254]\n",
      "  [255 255 255]\n",
      "  [255 255 255]]\n",
      "\n",
      " [[  0   0   0]\n",
      "  [  0   0   0]\n",
      "  [  0   0   0]\n",
      "  ...\n",
      "  [254 254 254]\n",
      "  [255 255 255]\n",
      "  [255 255 255]]\n",
      "\n",
      " ...\n",
      "\n",
      " [[  0   0 254]\n",
      "  [  0   0 254]\n",
      "  [  1   1 255]\n",
      "  ...\n",
      "  [255 255 255]\n",
      "  [255 255 255]\n",
      "  [255 255 255]]\n",
      "\n",
      " [[  0   0 254]\n",
      "  [  0   0 254]\n",
      "  [  1   1 255]\n",
      "  ...\n",
      "  [255 255 255]\n",
      "  [255 255 255]\n",
      "  [255 255 255]]\n",
      "\n",
      " [[  0   0 254]\n",
      "  [  0   0 254]\n",
      "  [  1   1 255]\n",
      "  ...\n",
      "  [255 255 255]\n",
      "  [255 255 255]\n",
      "  [255 255 255]]]\n"
     ]
    }
   ],
   "source": [
    "# 配列として読み込まれる\n",
    "print(img)"
   ]
  },
  {
   "cell_type": "code",
   "execution_count": 100,
   "metadata": {},
   "outputs": [
    {
     "name": "stdout",
     "output_type": "stream",
     "text": [
      "(400, 800, 3)\n"
     ]
    }
   ],
   "source": [
    "# 縦 x 横 x チャンネル\n",
    "print(img.shape)"
   ]
  },
  {
   "cell_type": "code",
   "execution_count": 110,
   "metadata": {},
   "outputs": [
    {
     "name": "stdout",
     "output_type": "stream",
     "text": [
      "[0 0 0]\n",
      "[255 255 255]\n"
     ]
    }
   ],
   "source": [
    "# 一番左上の画素値を表示(BGR)\n",
    "print(img[0, 0])"
   ]
  },
  {
   "cell_type": "code",
   "execution_count": 106,
   "metadata": {},
   "outputs": [
    {
     "name": "stdout",
     "output_type": "stream",
     "text": [
      "<class 'numpy.uint8'>\n"
     ]
    }
   ],
   "source": [
    "# データ型を表示\n",
    "print(type(img[0, 0, 0]))"
   ]
  },
  {
   "cell_type": "markdown",
   "metadata": {},
   "source": [
    "画像の表示は\n",
    "```python\n",
    "cv2.imshow(window_name, image)\n",
    "```\n",
    "で行えるが， jupyter上で実行するとバグる.  \n",
    "matplotlibを用いると容易に表示できるが，\n",
    "今回は授業の範囲を超えるので，\n",
    "pyファイルで実行します"
   ]
  }
 ],
 "metadata": {
  "kernelspec": {
   "display_name": "Python 3",
   "language": "python",
   "name": "python3"
  },
  "language_info": {
   "codemirror_mode": {
    "name": "ipython",
    "version": 3
   },
   "file_extension": ".py",
   "mimetype": "text/x-python",
   "name": "python",
   "nbconvert_exporter": "python",
   "pygments_lexer": "ipython3",
   "version": "3.10.10"
  },
  "toc": {
   "base_numbering": 1,
   "nav_menu": {},
   "number_sections": true,
   "sideBar": true,
   "skip_h1_title": false,
   "title_cell": "Table of Contents",
   "title_sidebar": "Contents",
   "toc_cell": false,
   "toc_position": {},
   "toc_section_display": true,
   "toc_window_display": false
  }
 },
 "nbformat": 4,
 "nbformat_minor": 4
}
