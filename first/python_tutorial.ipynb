{
 "cells": [
  {
   "cell_type": "markdown",
   "metadata": {
    "code_folding": []
   },
   "source": [
    "## Jupyter Notebook とは\n",
    "\n",
    "webブラウザから使用できるインタラクティブなプログラムの実行環境\n",
    "1. セル単位でプログラムを実行できる\n",
    "2. インタラクティブに結果の可視化が行える\n",
    "3. markdown記法にも対応していて，文書からコード，その実行結果まで一つのファイルで管理できる"
   ]
  },
  {
   "cell_type": "code",
   "execution_count": null,
   "metadata": {},
   "outputs": [],
   "source": [
    "print(\"Hello, world!\")"
   ]
  },
  {
   "cell_type": "markdown",
   "metadata": {},
   "source": [
    "## Python の文法について"
   ]
  },
  {
   "cell_type": "markdown",
   "metadata": {},
   "source": [
    "### 変数\n",
    "\n",
    "- C言語では宣言文によって，変数のデータ型と名前を定義する必要がある. 例) `int x = 3;`\n",
    "- pythonでは，変数に値を代入したタイミングで変数が定義される (型宣言をする必要がない)"
   ]
  },
  {
   "cell_type": "code",
   "execution_count": null,
   "metadata": {},
   "outputs": [],
   "source": [
    "x = 3\n",
    "print(x)"
   ]
  },
  {
   "cell_type": "code",
   "execution_count": null,
   "metadata": {},
   "outputs": [],
   "source": [
    "# #でコメントアウトできる\n",
    "# print文を書かなくても， セルの最後の行の変数や計算結果の値を確認できる\n",
    "x + 3"
   ]
  },
  {
   "cell_type": "markdown",
   "metadata": {},
   "source": [
    "### 変数の型\n",
    "- int型 (整数)\n",
    "- float型 (浮動小数点型)\n",
    "- str型 (文字列型)\n",
    "- bool型 (真偽値)"
   ]
  },
  {
   "cell_type": "code",
   "execution_count": null,
   "metadata": {},
   "outputs": [],
   "source": [
    "i = 4\n",
    "print(type(i))"
   ]
  },
  {
   "cell_type": "code",
   "execution_count": null,
   "metadata": {},
   "outputs": [],
   "source": [
    "f = 2.1\n",
    "print(type(f))"
   ]
  },
  {
   "cell_type": "code",
   "execution_count": null,
   "metadata": {},
   "outputs": [],
   "source": [
    "s = \"Hello, world!\"  # クオーテーションで囲う\n",
    "print(type(s))"
   ]
  },
  {
   "cell_type": "code",
   "execution_count": null,
   "metadata": {},
   "outputs": [],
   "source": [
    "b = True\n",
    "print(type(b))"
   ]
  },
  {
   "cell_type": "markdown",
   "metadata": {},
   "source": [
    "#### 文字列について\n",
    "- エスケープシーケンス\n",
    "- f文字列\n",
    "- r文字列"
   ]
  },
  {
   "cell_type": "code",
   "execution_count": null,
   "metadata": {},
   "outputs": [],
   "source": [
    "# \\nで改行，\\tでタブ\n",
    "print(\"Hello\\n\\tWorld!\")"
   ]
  },
  {
   "cell_type": "code",
   "execution_count": null,
   "metadata": {},
   "outputs": [],
   "source": [
    "# r\"\"でエスケープシーケンス等をそのまま出力\n",
    "print(r\"Hello\\n\\tWorld!\")\n",
    "print(r\"C:\\Users\\E\\test\")"
   ]
  },
  {
   "cell_type": "code",
   "execution_count": null,
   "metadata": {},
   "outputs": [],
   "source": [
    "# f\"{変数}\"で文字列中に変数を代入\n",
    "var = 1.23\n",
    "print(f\"var is {var}\")"
   ]
  },
  {
   "cell_type": "markdown",
   "metadata": {},
   "source": [
    "### 演算子\n",
    "#### 代数演算子\n",
    "\n",
    "- `+` 加算\n",
    "- `-` 減算\n",
    "- `*` 乗算\n",
    "- `/` 除算\n",
    "- `**` 冪乗\n",
    "- `%` 余りを計算\n",
    "- `//` 切り捨て"
   ]
  },
  {
   "cell_type": "code",
   "execution_count": null,
   "metadata": {},
   "outputs": [],
   "source": [
    "# 加算\n",
    "2 + 3"
   ]
  },
  {
   "cell_type": "code",
   "execution_count": null,
   "metadata": {},
   "outputs": [],
   "source": [
    "# 減算\n",
    "2 - 3"
   ]
  },
  {
   "cell_type": "code",
   "execution_count": null,
   "metadata": {},
   "outputs": [],
   "source": [
    "# 乗算\n",
    "2 * 3"
   ]
  },
  {
   "cell_type": "code",
   "execution_count": null,
   "metadata": {},
   "outputs": [],
   "source": [
    "# 除算\n",
    "2 / 3"
   ]
  },
  {
   "cell_type": "code",
   "execution_count": null,
   "metadata": {},
   "outputs": [],
   "source": [
    "# 冪乗\n",
    "2 ** 3"
   ]
  },
  {
   "cell_type": "code",
   "execution_count": null,
   "metadata": {},
   "outputs": [],
   "source": [
    "# 余り\n",
    "2 % 3"
   ]
  },
  {
   "cell_type": "code",
   "execution_count": null,
   "metadata": {},
   "outputs": [],
   "source": [
    "# 切り捨て\n",
    "2 // 3"
   ]
  },
  {
   "cell_type": "markdown",
   "metadata": {},
   "source": [
    "#### 代入演算子\n",
    "- `a = b`\n",
    "  aをbに代入\n",
    "- `a += b`\n",
    "  `a = a + b` と同じ\n",
    "- `a -= b`\n",
    "  `a = a - b` と同じ\n",
    "- `a *= b`\n",
    "  `a = a * b` と同じ\n",
    "- `a /= b`\n",
    "  `a = a / b` と同じ"
   ]
  },
  {
   "cell_type": "code",
   "execution_count": null,
   "metadata": {},
   "outputs": [],
   "source": [
    "a = 3\n",
    "a = a + 3\n",
    "print(a)"
   ]
  },
  {
   "cell_type": "code",
   "execution_count": null,
   "metadata": {},
   "outputs": [],
   "source": [
    "a = 3\n",
    "a += 3\n",
    "print(a)"
   ]
  },
  {
   "cell_type": "markdown",
   "metadata": {},
   "source": [
    "#### 文字列演算\n",
    "- `+` 文字列の連結\n",
    "- `*` 文字列を定数回繰り返す"
   ]
  },
  {
   "cell_type": "code",
   "execution_count": null,
   "metadata": {},
   "outputs": [],
   "source": [
    "s1 = \"Hello, \"\n",
    "s2 = \"world! \"\n",
    "s = s1 + s2\n",
    "print(s)"
   ]
  },
  {
   "cell_type": "code",
   "execution_count": null,
   "metadata": {},
   "outputs": [],
   "source": [
    "print(s * 10)"
   ]
  },
  {
   "cell_type": "markdown",
   "metadata": {},
   "source": [
    "### 複合データ型\n",
    "複数のデータをまとめて扱う\n",
    "- `list` リスト\n",
    "- `tuple` タプル\n",
    "- `dict` 辞書"
   ]
  },
  {
   "cell_type": "markdown",
   "metadata": {},
   "source": [
    "#### リスト\n",
    "`[]`の中に複数の変数を`,`で区切って格納したもの"
   ]
  },
  {
   "cell_type": "code",
   "execution_count": null,
   "metadata": {},
   "outputs": [],
   "source": [
    "# リストを定義\n",
    "numbers = [1, 2, 3, 4, 5]\n",
    "print(numbers)"
   ]
  },
  {
   "cell_type": "code",
   "execution_count": null,
   "metadata": {},
   "outputs": [],
   "source": [
    "# 要素数の確認\n",
    "len(numbers)"
   ]
  },
  {
   "cell_type": "code",
   "execution_count": null,
   "metadata": {},
   "outputs": [],
   "source": [
    "# list[インデックス] で各要素にアクセスできる\n",
    "# 先頭が0から始まることに注意\n",
    "numbers[0]"
   ]
  },
  {
   "cell_type": "code",
   "execution_count": null,
   "metadata": {},
   "outputs": [],
   "source": [
    "# インデックスを負の値にすると末尾からの位置になる\n",
    "numbers[-1]"
   ]
  },
  {
   "cell_type": "code",
   "execution_count": null,
   "metadata": {},
   "outputs": [],
   "source": [
    "# 範囲外のインデックスを指定するとエラー\n",
    "# pythonはエラー文が親切なので，しっかり読もう\n",
    "numbers[100]"
   ]
  },
  {
   "cell_type": "code",
   "execution_count": null,
   "metadata": {},
   "outputs": [],
   "source": [
    "# スライスを用いることで， リストから複数の値を取り出すことも\n",
    "# list[開始位置:終了位置(:ステップ)]\n",
    "print(numbers[1:3])\n",
    "print(numbers[0:5:2])"
   ]
  },
  {
   "cell_type": "code",
   "execution_count": null,
   "metadata": {},
   "outputs": [],
   "source": [
    "# 先頭や末尾のインデックスは省略できる\n",
    "print(numbers[:3]) # numbers[0:3] と同じ\n",
    "print(numbers[3:]) # numbers[3:5] と同じ"
   ]
  },
  {
   "cell_type": "code",
   "execution_count": null,
   "metadata": {},
   "outputs": [],
   "source": [
    "# 逆順に表示することも\n",
    "print(numbers[::-1]) # numbers[-1:-6:-1] と同じ"
   ]
  },
  {
   "cell_type": "code",
   "execution_count": null,
   "metadata": {},
   "outputs": [],
   "source": [
    "# 要素を追加\n",
    "numbers.append(6)\n",
    "numbers"
   ]
  },
  {
   "cell_type": "code",
   "execution_count": null,
   "metadata": {},
   "outputs": [],
   "source": [
    "# 2次元配列\n",
    "numbers_2d = [[1, 2, 3], \n",
    "              [4, 5, 6],\n",
    "              [7, 8, 9]]\n",
    "print(numbers_2d)"
   ]
  },
  {
   "cell_type": "markdown",
   "metadata": {},
   "source": [
    "#### タプル\n",
    "`()`の中に複数の変数を`,`区切りで格納したもの  \n",
    "リストとの違いとして，一度定義したタプルは中身を変更することができない"
   ]
  },
  {
   "cell_type": "code",
   "execution_count": null,
   "metadata": {},
   "outputs": [],
   "source": [
    "assistants = (\"ishikawa\", \"kobayashi\")"
   ]
  },
  {
   "cell_type": "code",
   "execution_count": null,
   "metadata": {},
   "outputs": [],
   "source": [
    "# リストと同様に tuple[インデックス] で各要素にアクセスできる\n",
    "assistants[0]"
   ]
  },
  {
   "cell_type": "code",
   "execution_count": null,
   "metadata": {},
   "outputs": [],
   "source": [
    "# タプルは途中で中身を変更できない\n",
    "assistants[0] = \"kasai\""
   ]
  },
  {
   "cell_type": "markdown",
   "metadata": {},
   "source": [
    "#### 辞書型\n",
    "キーとそれに対応する値を組み合わせて格納できる.  \n",
    "`{key: value}`の形で書く."
   ]
  },
  {
   "cell_type": "code",
   "execution_count": null,
   "metadata": {},
   "outputs": [],
   "source": [
    "grades = {\"signal processing\": \"A\", \"LSI\": \"C\", \"Informatics engineering\": \"S\"}"
   ]
  },
  {
   "cell_type": "code",
   "execution_count": null,
   "metadata": {},
   "outputs": [],
   "source": [
    "# dict[key] で値を参照できる\n",
    "grades[\"signal processing\"]"
   ]
  },
  {
   "cell_type": "code",
   "execution_count": null,
   "metadata": {},
   "outputs": [],
   "source": [
    "# dict.get(key) でも値を参照できる\n",
    "grades.get(\"signal processing\")"
   ]
  },
  {
   "cell_type": "code",
   "execution_count": null,
   "metadata": {},
   "outputs": [],
   "source": [
    "# 無いキーを指定した場合の動作が異なる\n",
    "print(grades.get(\"computer vision\")) # None\n",
    "print(grades[\"computer vision\"]) # Raise KeyError"
   ]
  },
  {
   "cell_type": "code",
   "execution_count": null,
   "metadata": {},
   "outputs": [],
   "source": [
    "# 値を入れ直すこともできる\n",
    "grades[\"LSI\"] = \"D\"\n",
    "print(grades[\"LSI\"])"
   ]
  },
  {
   "cell_type": "code",
   "execution_count": null,
   "metadata": {},
   "outputs": [],
   "source": [
    "# dict.keys() キーの一覧を取り出す\n",
    "grades.keys()"
   ]
  },
  {
   "cell_type": "code",
   "execution_count": null,
   "metadata": {},
   "outputs": [],
   "source": [
    "# dict.values() 値の一覧を取り出す\n",
    "grades.values()"
   ]
  },
  {
   "cell_type": "code",
   "execution_count": null,
   "metadata": {},
   "outputs": [],
   "source": [
    "# dict.items() キーと値の二つを取り出す\n",
    "grades.items()"
   ]
  },
  {
   "cell_type": "markdown",
   "metadata": {},
   "source": [
    "### 制御構文\n",
    "\n",
    "- 繰り返し (`for` `while`)\n",
    "- 条件分岐 (`if` `else` `elif`)\n",
    "\n",
    "C言語では，繰り返しの処理や条件分岐内の処理を`{}`で囲っていた\n",
    "例)\n",
    "```c\n",
    "if (条件式) {\n",
    "    なんらかの式\n",
    "}\n",
    "```\n",
    "\n",
    "pythonはインデント記法を採用しているため, `{}`で囲う必要はなく，  \n",
    "その代わり`:`とインデント(スペース)を用いてこれらの処理を書く\n",
    "\n",
    "```python\n",
    "if 条件式:\n",
    "    なんらかの処理\n",
    "```"
   ]
  },
  {
   "cell_type": "markdown",
   "metadata": {},
   "source": [
    "#### for文\n",
    "\n",
    "イテラブルオブジェクト(反復可能なオブジェクト)を用いた構文．  \n",
    "listなどもイテラブルオブジェクトになる．\n",
    "`range()`という組み込みの関数を使うと，  \n",
    "指定した回数分の整数をもつイテラブルオブジェクトを作ってくれる\n",
    "```python\n",
    "for 変数 in イテラブルオブジェクト:\n",
    "    なんらかの処理\n",
    "```"
   ]
  },
  {
   "cell_type": "code",
   "execution_count": null,
   "metadata": {},
   "outputs": [],
   "source": [
    "# リストの要素を一つずつ取り出す\n",
    "for i in [0, 1, 2, 3, 4]:\n",
    "    print(i)"
   ]
  },
  {
   "cell_type": "code",
   "execution_count": null,
   "metadata": {
    "scrolled": true
   },
   "outputs": [],
   "source": [
    "# range()関数を使うと，リストを手書きする必要がない\n",
    "for i in range(5):\n",
    "    print(i)"
   ]
  },
  {
   "cell_type": "code",
   "execution_count": null,
   "metadata": {},
   "outputs": [],
   "source": [
    "# (開始位置, 終了位置(, ステップ))も指定するすことができる\n",
    "for i in range(10, 30, 5):\n",
    "    print(i)"
   ]
  },
  {
   "cell_type": "code",
   "execution_count": null,
   "metadata": {},
   "outputs": [],
   "source": [
    "# リストもイテラブルオブジェクト\n",
    "prime_numbers = [2, 3, 4, 7, 11, 13, 17, 19]\n",
    "for n in prime_numbers:\n",
    "    print(n)"
   ]
  },
  {
   "cell_type": "code",
   "execution_count": null,
   "metadata": {},
   "outputs": [],
   "source": [
    "# rangeを使ってリストの中身を取り出すこともできる\n",
    "N = len(prime_numbers)\n",
    "for i in range(N):\n",
    "    print(prime_numbers[i])"
   ]
  },
  {
   "cell_type": "code",
   "execution_count": null,
   "metadata": {},
   "outputs": [],
   "source": [
    "# dict.keys(), dict.values(), dict.items() もイテラブルオブジェクトを返している\n",
    "grades = {\"signal processing\": \"A\", \"LSI\": \"C\", \"Informatics engineering\": \"S\"}\n",
    "for key in grades.keys():\n",
    "    print(key)"
   ]
  },
  {
   "cell_type": "code",
   "execution_count": null,
   "metadata": {},
   "outputs": [],
   "source": [
    "for val in grades.values():\n",
    "    print(val)"
   ]
  },
  {
   "cell_type": "code",
   "execution_count": null,
   "metadata": {},
   "outputs": [],
   "source": [
    "for key, val in grades.items():\n",
    "    print(key, val)"
   ]
  },
  {
   "cell_type": "markdown",
   "metadata": {},
   "source": [
    "#### if文\n",
    "\n",
    "条件を満たしたかどうか(`True` or `False`)で処理を変えるための構文\n",
    "\n",
    "```python\n",
    "if 条件1:\n",
    "    処理1  # 条件1を満たした時\n",
    "elif 条件2:\n",
    "    処理2  # 条件1を満たしていなく，かつ条件2を満たした時\n",
    "else:\n",
    "    処理3  # 条件1も条件2も満たしていない時\n",
    "```\n"
   ]
  },
  {
   "cell_type": "markdown",
   "metadata": {},
   "source": [
    "条件式の書き方．比較演算子とブール演算子を組み合わせて書く．\n",
    "- 比較演算子\n",
    "  - `a == b` aとbが等しい \n",
    "  - `a != b` aとbが異なる\n",
    "  - `a < b` aがbよりも小さい\n",
    "  - `a > b` aがbよりも大きい\n",
    "  - `a >= b` aがb以上\n",
    "  - `a <= b` aがb以下\n",
    "  - `a in b` aがbに含まれる\n",
    "- ブール演算子\n",
    "  - `A and B` AとBが真なら真\n",
    "  - `A or B` AかBが真なら真\n",
    "  - `not A` Aが偽なら真"
   ]
  },
  {
   "cell_type": "code",
   "execution_count": null,
   "metadata": {},
   "outputs": [],
   "source": [
    "# 条件式\n",
    "print(10 > 5)\n",
    "print(\"123\" == 123)"
   ]
  },
  {
   "cell_type": "code",
   "execution_count": null,
   "metadata": {},
   "outputs": [],
   "source": [
    "x = 10\n",
    "if x >= 100:\n",
    "    print(\"Too large\")\n",
    "elif x > 50:\n",
    "    print(\"Large\")\n",
    "elif x == 50:\n",
    "    print(\"Bingo!\")\n",
    "elif 10 <= x and x < 50:\n",
    "    print(\"Small\")\n",
    "else:\n",
    "    print(\"Too small\")"
   ]
  },
  {
   "cell_type": "code",
   "execution_count": null,
   "metadata": {},
   "outputs": [],
   "source": [
    "# 10 <= x and x < 50 の書き換え\n",
    "x = 30\n",
    "if 10 <= x < 50:\n",
    "    print(\"True\")"
   ]
  },
  {
   "cell_type": "code",
   "execution_count": null,
   "metadata": {},
   "outputs": [],
   "source": [
    "# in 演算子\n",
    "x = 5\n",
    "numbers = [1, 2, 3, 4, 5]\n",
    "if x in numbers:\n",
    "    print(\"True\")\n",
    "else:\n",
    "    print(\"False\")"
   ]
  },
  {
   "cell_type": "markdown",
   "metadata": {},
   "source": [
    "条件式は`True`/`False`の2値を返すものが基本だが，Pythonでは以下の要素はFalse，他はTrueとみなされため，変数を条件式として用いることもできる．\n",
    "\n",
    "Falseとみなされる例\n",
    "- `False`\n",
    "- ゼロ(`0`, `0.0`)\n",
    "- 空文字列(`\"\"`)\n",
    "- 空の複合データ(`[]`, `()`, `{}`)\n",
    "- None"
   ]
  },
  {
   "cell_type": "code",
   "execution_count": null,
   "metadata": {},
   "outputs": [],
   "source": [
    "flag = True\n",
    "for item in [0, 1.1, 0.2, 0.0, None, \"abc\", \"\", [1, 2 ,3]]:\n",
    "    if flag and not item:\n",
    "        print(item)"
   ]
  },
  {
   "cell_type": "markdown",
   "metadata": {},
   "source": [
    "#### while文\n",
    "\n",
    "条件を満たしている間，ループし続ける．  \n",
    "適切に条件を指定したり，終了条件を定めないと無限ループしてしまう\n",
    "```python\n",
    "while 条件式:\n",
    "    処理\n",
    "```"
   ]
  },
  {
   "cell_type": "code",
   "execution_count": null,
   "metadata": {},
   "outputs": [],
   "source": [
    "x = 0\n",
    "while x < 10:\n",
    "    x += 1\n",
    "    print(x)"
   ]
  },
  {
   "cell_type": "code",
   "execution_count": null,
   "metadata": {},
   "outputs": [],
   "source": [
    "# 無限にループしてしまう！！  \n",
    "# jupyter notebook中の停止ボタンで，セル内の処理を止めることができる\n",
    "x = 0\n",
    "while True:\n",
    "   x += 1 "
   ]
  },
  {
   "cell_type": "code",
   "execution_count": null,
   "metadata": {},
   "outputs": [],
   "source": [
    "# break 文を使ってループを抜けることができる\n",
    "# whileやforの先頭に戻るcontinue文もある\n",
    "x = 0\n",
    "while True:\n",
    "    x += 1\n",
    "    if x >= 100:\n",
    "        break\n",
    "print(x)"
   ]
  },
  {
   "cell_type": "code",
   "execution_count": null,
   "metadata": {},
   "outputs": [],
   "source": [
    "# continue文の例\n",
    "x = 0\n",
    "y = 0\n",
    "while True:\n",
    "    x += 1\n",
    "    \n",
    "    if x % 3 != 0:\n",
    "        continue\n",
    "    \n",
    "    y += 1\n",
    "    \n",
    "    if x >= 50:\n",
    "        break\n",
    "\n",
    "print(\"x\", x)\n",
    "print(\"y\", y)"
   ]
  },
  {
   "cell_type": "markdown",
   "metadata": {},
   "source": [
    "#### 演習1 FizzBuzz問題を解いてみよう\n",
    "1から100までの数字を画面に表示する．  \n",
    "その際に，数字が3の倍数の時は，数字の代わりに \"Fizz\"と出力する．\n",
    "同様に5の倍数の時は，\"Buzz\"と出力し，\n",
    "3の倍数でもあり5の倍数でもある時は\"FizzBuzz\"と出力しよう．\n",
    "\n",
    "\n",
    "**期待する出力**\n",
    "```\n",
    "1\n",
    "2\n",
    "Fizz\n",
    "4\n",
    "Buzz\n",
    "Fizz\n",
    "7\n",
    "8\n",
    "Fizz\n",
    "Buzz\n",
    "11\n",
    "Fizz\n",
    "13\n",
    "14\n",
    "FizzBuzz\n",
    "```"
   ]
  },
  {
   "cell_type": "code",
   "execution_count": null,
   "metadata": {},
   "outputs": [],
   "source": [
    "# write codes here\n"
   ]
  },
  {
   "cell_type": "markdown",
   "metadata": {},
   "source": [
    "### 関数の定義\n",
    "\n",
    "`def`を用いて関数を定義する．  \n",
    "関数も`:`とインデントを用いる．\n",
    "```python\n",
    "def func(引数):\n",
    "    処理\n",
    "```"
   ]
  },
  {
   "cell_type": "code",
   "execution_count": null,
   "metadata": {},
   "outputs": [],
   "source": [
    "# 関数を定義\n",
    "def double(x):\n",
    "    print(2 * x)"
   ]
  },
  {
   "cell_type": "code",
   "execution_count": null,
   "metadata": {},
   "outputs": [],
   "source": [
    "# 関数を実行\n",
    "double(10)"
   ]
  },
  {
   "cell_type": "code",
   "execution_count": null,
   "metadata": {},
   "outputs": [],
   "source": [
    "# 引数を複数指定することもできる\n",
    "def add(x, y):\n",
    "    print(x + y)"
   ]
  },
  {
   "cell_type": "code",
   "execution_count": null,
   "metadata": {},
   "outputs": [],
   "source": [
    "add(3, 2)"
   ]
  },
  {
   "cell_type": "code",
   "execution_count": null,
   "metadata": {},
   "outputs": [],
   "source": [
    "# 返り値は return で返すことができる\n",
    "def add(x, y):\n",
    "    return x + y "
   ]
  },
  {
   "cell_type": "code",
   "execution_count": null,
   "metadata": {},
   "outputs": [],
   "source": [
    "result = add(10, 20)\n",
    "print(result)"
   ]
  },
  {
   "cell_type": "markdown",
   "metadata": {},
   "source": [
    "### クラス\n",
    "\n",
    "例えば，青木研究室のメンバーの名簿を作ることを考える．  \n",
    "それぞれのメンバーには苗字，名前，メールの情報を入れたい．\n",
    "愚直に実装すると\n",
    "```python\n",
    "members = [\n",
    "    {\"first_name\": \"Yoshimitsu\", \"last_name\": \"Aoki\", \"email\": \"aoki@elec.keio.ac.jp\"},\n",
    "    {\"first_name\": \"Yuchi\", \"last_name\": \"Ishikawa\", \"email\": \"aoki@elec.keio.ac.jp\"},\n",
    "    {\"first_name\": \"Takuya\", \"last_name\": \"Kobayashi\", \"email\": \"aoki@elec.keio.ac.jp\"},\n",
    "]\n",
    "```\n",
    "\n",
    "となるが，各メンバーを構成する要素は同じ．  \n",
    "-> 共通の設計図(クラス)を作ってあげると，各メンバーに属している変数(属性)や共通の振る舞い(メソッド)をもつ，メンバー(インスタンス)を作るのが簡単になる．"
   ]
  },
  {
   "cell_type": "code",
   "execution_count": null,
   "metadata": {},
   "outputs": [],
   "source": [
    "# クラスを定義\n",
    "class Member:\n",
    "    # インスタンス化する時に呼び出される関数\n",
    "    # selfはインスタンス自身を表す\n",
    "    def __init__(self, first_name, last_name, email):\n",
    "        self.first_name = first_name \n",
    "        self.last_name = last_name\n",
    "        self.email = email"
   ]
  },
  {
   "cell_type": "code",
   "execution_count": null,
   "metadata": {},
   "outputs": [],
   "source": [
    "aoki = Member(first_name=\"Yoshimitsu\", last_name=\"Aoki\", email=\"aoki@elec.keio.ac.jp\")\n",
    "print(aoki.first_name) # __init__で初期化されたself.first_nameを参照\n",
    "print(aoki.email)"
   ]
  },
  {
   "cell_type": "code",
   "execution_count": null,
   "metadata": {},
   "outputs": [],
   "source": [
    "# クラスを定義\n",
    "class Member:\n",
    "    # インスタンス化する時に呼び出される関数\n",
    "    # selfはインスタンス自身を表す\n",
    "    def __init__(self, first_name, last_name, email):\n",
    "        self.first_name = first_name \n",
    "        self.last_name = last_name\n",
    "        self.email = email\n",
    "    \n",
    "    def self_introduction(self):\n",
    "        print(\"Hi, there! I'm\", self.first_name, self.last_name)"
   ]
  },
  {
   "cell_type": "code",
   "execution_count": null,
   "metadata": {},
   "outputs": [],
   "source": [
    "aoki = Member(first_name=\"Yoshimitsu\", last_name=\"Aoki\", email=\"aoki@elec.keio.ac.jp\")\n",
    "aoki.self_introduction()"
   ]
  },
  {
   "cell_type": "code",
   "execution_count": null,
   "metadata": {},
   "outputs": [],
   "source": [
    "kobayashi = Member(first_name=\"Takuya\", last_name=\"Kobayashi\", email=\"kobayashi@aoki-medialab.jp\")\n",
    "kobayashi.self_introduction()"
   ]
  },
  {
   "cell_type": "markdown",
   "metadata": {},
   "source": [
    "## numpy\n",
    "高速に配列計算を行うためのライブラリ"
   ]
  },
  {
   "cell_type": "code",
   "execution_count": null,
   "metadata": {},
   "outputs": [],
   "source": [
    "# ライブラリをインポート. numpyはnpとして扱うのが慣例\n",
    "import numpy as np"
   ]
  },
  {
   "cell_type": "code",
   "execution_count": null,
   "metadata": {},
   "outputs": [],
   "source": [
    "# 1次元配列を作る\n",
    "# np.array にリストを入れることで，1次元配列を定義できる\n",
    "arr1 = np.array([1, 2, 3])\n",
    "print(arr1)\n",
    "print(type(arr1))"
   ]
  },
  {
   "cell_type": "code",
   "execution_count": null,
   "metadata": {},
   "outputs": [],
   "source": [
    "# np.arange()でrange風の配列を作る\n",
    "# np.arange(要素数)，またはnp.arange(初期値, 終了条件(, ステップ))\n",
    "arr2 = np.arange(4, 7)\n",
    "print(arr2)"
   ]
  },
  {
   "cell_type": "code",
   "execution_count": null,
   "metadata": {},
   "outputs": [],
   "source": [
    "# もちろん演算も簡単にできる\n",
    "print(\"足し算: \", arr1 + arr2)\n",
    "print(\"引き算: \", arr1 - arr2)\n",
    "print(\"直積: \", arr1 * arr2)\n",
    "print(\"内積: \", np.dot(arr1, arr2))"
   ]
  },
  {
   "cell_type": "code",
   "execution_count": null,
   "metadata": {},
   "outputs": [],
   "source": [
    "# 多次元配列を定義\n",
    "arr3 = np.array([[1, 1, 1], [2, 2, 2]])\n",
    "arr4 = np.stack([arr1, arr2])\n",
    "print(arr4)"
   ]
  },
  {
   "cell_type": "code",
   "execution_count": null,
   "metadata": {},
   "outputs": [],
   "source": [
    "# 形状を表示\n",
    "print(arr3.shape, arr4.shape)"
   ]
  },
  {
   "cell_type": "code",
   "execution_count": null,
   "metadata": {},
   "outputs": [],
   "source": [
    "# 同様に演算ができる\n",
    "print(\"足し算:\\n\", arr3 + arr4)\n",
    "print(\"引き算:\\n\", arr3 - arr4)\n",
    "print(\"直積:\\n\", arr3 * arr4)"
   ]
  },
  {
   "cell_type": "code",
   "execution_count": null,
   "metadata": {},
   "outputs": [],
   "source": [
    "# arr3 の列数と， arr4の行数が一致していないと内積は計算できない\n",
    "# error!\n",
    "np.dot(arr3, arr4)"
   ]
  },
  {
   "cell_type": "code",
   "execution_count": null,
   "metadata": {},
   "outputs": [],
   "source": [
    "# 転置をしてから内積を取る\n",
    "print(arr4.shape)\n",
    "arr4_t = arr4.T\n",
    "print(arr4_t.shape)"
   ]
  },
  {
   "cell_type": "code",
   "execution_count": null,
   "metadata": {},
   "outputs": [],
   "source": [
    "print(np.dot(arr3, arr4_t))"
   ]
  },
  {
   "cell_type": "markdown",
   "metadata": {},
   "source": [
    "#### ブロードキャスト\n",
    "異なる形状の配列を計算する際に，一定のルールに基づいて形状が同じになるように自動で変換してくれる機能\n",
    "\n",
    "具体的には以下のようなルールで実行される\n",
    "- 次元数を揃える\n",
    "  2つの配列の次元数が異なる場合、次元数が少ない方の配列の先頭にサイズ（長さ）が1の新しい次元を追加して次元数を揃える。\n",
    "- 各次元のサイズ（長さ）を揃える\n",
    "  2つの配列の各次元のサイズが一致しない場合、サイズが1である次元は他方の配列の次元のサイズに引き伸ばされる（値が繰り返される）。\n",
    "- 2つの配列のどちらのサイズも1ではない次元が存在するとブロードキャストできずにエラーとなる。"
   ]
  },
  {
   "cell_type": "code",
   "execution_count": null,
   "metadata": {},
   "outputs": [],
   "source": [
    "arr5 = np.array([1, 2, 3])\n",
    "arr6 = np.array([[5, 6, 7], [8, 9, 10]])"
   ]
  },
  {
   "cell_type": "code",
   "execution_count": null,
   "metadata": {},
   "outputs": [],
   "source": [
    "arr5 * 10"
   ]
  },
  {
   "cell_type": "code",
   "execution_count": null,
   "metadata": {},
   "outputs": [],
   "source": [
    "arr5 * arr6"
   ]
  },
  {
   "cell_type": "code",
   "execution_count": null,
   "metadata": {},
   "outputs": [],
   "source": [
    "# ブロードキャストできない例\n",
    "# error!\n",
    "arr7 = np.array([2, 3])\n",
    "arr5 * arr7"
   ]
  },
  {
   "cell_type": "code",
   "execution_count": null,
   "metadata": {},
   "outputs": [],
   "source": [
    "# インデックスを指定することで配列の一部を取り出せる\n",
    "arr = np.array([[1, 2, 3], [4, 5, 6], [7, 8, 9]])\n",
    "print(arr)"
   ]
  },
  {
   "cell_type": "code",
   "execution_count": null,
   "metadata": {},
   "outputs": [],
   "source": [
    "# 1行目を取り出す\n",
    "print(arr[0])"
   ]
  },
  {
   "cell_type": "code",
   "execution_count": null,
   "metadata": {},
   "outputs": [],
   "source": [
    "# 1列目を取り出す\n",
    "# [:]， は[0:]の省略\n",
    "print(arr[:, 0])"
   ]
  },
  {
   "cell_type": "code",
   "execution_count": null,
   "metadata": {},
   "outputs": [],
   "source": [
    "# 2行3列目を取り出す\n",
    "print(arr[1, 2])\n",
    "print(arr[1][2])"
   ]
  },
  {
   "cell_type": "markdown",
   "metadata": {},
   "source": [
    "#### np.where()\n",
    "指定した条件を満たす配列内の要素のインデックスを見つけたり、特定の条件を満たす要素に新しい値を割り当てたりするのに役立つ"
   ]
  },
  {
   "cell_type": "code",
   "execution_count": null,
   "metadata": {},
   "outputs": [],
   "source": [
    "# 例: 1次元配列での利用\n",
    "arr_1d = np.array([1, 2, 3, 4, 5])\n",
    "print(np.where(arr_1d > 2))"
   ]
  },
  {
   "cell_type": "code",
   "execution_count": null,
   "metadata": {},
   "outputs": [],
   "source": [
    "# 例: 2次元配列での利用\n",
    "arr_2d = np.array([[1, 2, 3], [4, 5, 6], [7, 8, 9]])\n",
    "print(arr_2d)\n",
    "print(np.where(arr_2d > 3))"
   ]
  },
  {
   "cell_type": "code",
   "execution_count": null,
   "metadata": {},
   "outputs": [],
   "source": [
    "# 特定の条件を満たす要素に新しい値を割り当てる例\n",
    "new_arr = np.where(arr > 2, 100, arr)\n",
    "print(new_arr)"
   ]
  },
  {
   "cell_type": "code",
   "execution_count": null,
   "metadata": {},
   "outputs": [],
   "source": [
    "# マスクの利用\n",
    "mask = np.array([1, 1, 1, 0, 0, 0])\n",
    "arr8 = np.array([8, 16, 24, 32, 40, 48])\n",
    "arr9 = np.array([-9, -18, -27, -36, -45, -54])\n",
    "masked = np.where(mask, arr8, arr9)\n",
    "print(masked)"
   ]
  },
  {
   "cell_type": "markdown",
   "metadata": {},
   "source": [
    "#### Pythonの配列とnumpyの配列の扱い方の違いの例\n",
    "- 要素の追加\n",
    "- 配列のソート\n",
    "- 列の切り出し"
   ]
  },
  {
   "cell_type": "code",
   "execution_count": null,
   "metadata": {},
   "outputs": [],
   "source": [
    "# 配列の追加\n",
    "pi = [3, 1, 4]\n",
    "pi_np = np.array(pi)"
   ]
  },
  {
   "cell_type": "code",
   "execution_count": null,
   "metadata": {},
   "outputs": [],
   "source": [
    "# Pythonの配列の末尾に一つ追加\n",
    "pi.append(1)\n",
    "# Pythonの配列の末尾に配列を追加\n",
    "pi.extend([5, 9])\n",
    "pi += [2, 6]\n",
    "print(pi)"
   ]
  },
  {
   "cell_type": "code",
   "execution_count": null,
   "metadata": {},
   "outputs": [],
   "source": [
    "# numpyの配列の末尾に一つ追加\n",
    "pi_np = np.append(pi_np, 1)\n",
    "# numpyの配列の末尾に配列を追加\n",
    "pi_np = np.append(pi_np, [5, 9])\n",
    "print(pi_np)"
   ]
  },
  {
   "cell_type": "code",
   "execution_count": null,
   "metadata": {},
   "outputs": [],
   "source": [
    "# Pythonの配列をソートして返す\n",
    "pi_sorted = sorted(pi)\n",
    "print(pi_sorted)\n",
    "# Pythonの配列を直接ソートする\n",
    "pi.sort()\n",
    "print(pi)"
   ]
  },
  {
   "cell_type": "code",
   "execution_count": null,
   "metadata": {},
   "outputs": [],
   "source": [
    "# numpyの配列のソート\n",
    "pi_np_sorted = np.sort(pi_np)\n",
    "print(pi_np_sorted)"
   ]
  },
  {
   "cell_type": "code",
   "execution_count": null,
   "metadata": {},
   "outputs": [],
   "source": [
    "# numpyの2次元配列の作成(準備)\n",
    "pi_np_2d = np.reshape(pi_np, [2, 3])\n",
    "print(pi_np_2d)"
   ]
  },
  {
   "cell_type": "code",
   "execution_count": null,
   "metadata": {},
   "outputs": [],
   "source": [
    "# Pythonの2次元配列の作成(準備)\n",
    "pi_2d = pi_np_2d.tolist()\n",
    "print(pi_2d)"
   ]
  },
  {
   "cell_type": "code",
   "execution_count": null,
   "metadata": {},
   "outputs": [],
   "source": [
    "# numpyの2次元配列の列を取り出す\n",
    "row0_np = pi_np_2d[:,0]\n",
    "print(row0_np)"
   ]
  },
  {
   "cell_type": "code",
   "execution_count": null,
   "metadata": {},
   "outputs": [],
   "source": [
    "# Pythonの2次元配列の列を取り出す\n",
    "# リスト内包表記を利用．pi_2dの各行から最初の要素を取り出し，リスト形式で渡す\n",
    "row0 = [col[0] for col in pi_2d]\n",
    "print(row0)"
   ]
  },
  {
   "cell_type": "markdown",
   "metadata": {},
   "source": [
    "## opencv\n",
    "画像や動画の読み込み，編集，書き出し等を行うライブラリ"
   ]
  },
  {
   "cell_type": "code",
   "execution_count": null,
   "metadata": {},
   "outputs": [],
   "source": [
    "import cv2"
   ]
  },
  {
   "cell_type": "markdown",
   "metadata": {},
   "source": [
    "サンプル画像(color.jpg)\n",
    "\n",
    "![](color.jpg)"
   ]
  },
  {
   "cell_type": "code",
   "execution_count": null,
   "metadata": {},
   "outputs": [],
   "source": [
    "# 画像を読み込む\n",
    "# RGBではなくBGRとして読み込まれることに注意\n",
    "img = cv2.imread(\"color.jpg\")"
   ]
  },
  {
   "cell_type": "code",
   "execution_count": null,
   "metadata": {
    "scrolled": true
   },
   "outputs": [],
   "source": [
    "# 配列として読み込まれる\n",
    "print(img)"
   ]
  },
  {
   "cell_type": "code",
   "execution_count": null,
   "metadata": {},
   "outputs": [],
   "source": [
    "# 縦 x 横 x チャンネル\n",
    "print(img.shape)"
   ]
  },
  {
   "cell_type": "code",
   "execution_count": null,
   "metadata": {},
   "outputs": [],
   "source": [
    "# 一番左上と右下の画素値を表示(BGR)\n",
    "print(img[0, 0])\n",
    "print(img[-1, -1])"
   ]
  },
  {
   "cell_type": "code",
   "execution_count": null,
   "metadata": {},
   "outputs": [],
   "source": [
    "# データ型を表示\n",
    "print(type(img[0, 0, 0]))"
   ]
  },
  {
   "cell_type": "code",
   "execution_count": null,
   "metadata": {},
   "outputs": [],
   "source": [
    "# uint8の範囲を超えるとオーバーフローする\n",
    "print(img[0, 0] - 1) # [0, 0, 0] - 1 ?\n",
    "print(img[-1, -1] + 2) # [255, 255, 255] + 2 ?"
   ]
  },
  {
   "cell_type": "markdown",
   "metadata": {},
   "source": [
    "画像の表示は\n",
    "```python\n",
    "cv2.imshow(window_name, image)\n",
    "```\n",
    "で行えるが， jupyter上で実行するとバグる.  \n",
    "matplotlibを用いると容易に表示できるが，\n",
    "今回は授業の範囲を超えるので，\n",
    "pyファイルで実行します"
   ]
  }
 ],
 "metadata": {
  "kernelspec": {
   "display_name": "Python 3",
   "language": "python",
   "name": "python3"
  },
  "language_info": {
   "codemirror_mode": {
    "name": "ipython",
    "version": 3
   },
   "file_extension": ".py",
   "mimetype": "text/x-python",
   "name": "python",
   "nbconvert_exporter": "python",
   "pygments_lexer": "ipython3",
   "version": "3.10.10"
  },
  "toc": {
   "base_numbering": 1,
   "nav_menu": {},
   "number_sections": true,
   "sideBar": true,
   "skip_h1_title": false,
   "title_cell": "Table of Contents",
   "title_sidebar": "Contents",
   "toc_cell": false,
   "toc_position": {},
   "toc_section_display": true,
   "toc_window_display": false
  }
 },
 "nbformat": 4,
 "nbformat_minor": 4
}
